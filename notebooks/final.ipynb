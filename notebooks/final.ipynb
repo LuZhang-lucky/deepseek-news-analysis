{
 "cells": [
  {
   "cell_type": "code",
   "execution_count": 1,
   "id": "9c08f086-c1a5-445b-8eb8-a12d9ba382cd",
   "metadata": {},
   "outputs": [
    {
     "name": "stdout",
     "output_type": "stream",
     "text": [
      "What to Know About DeepSeek and How It Is Upending A.I.\n",
      "How did a little-known Chinese start-up cause the markets and U.S. tech giants to quake? Heres what to know.\n",
      "A hand holding an iPhone with words saying Hi, Im DeepSeek and How can I help you today? on the screen.\n",
      "\n",
      "Tech stocks tumbled. Giant companies like Meta and Nvidia faced a barrage of questions about their future. Tech executives took to social media to proclaim their fears.\n",
      "\n",
      "And it was all because of a little-known Chinese artificial \n"
     ]
    }
   ],
   "source": [
    "#This is the beginning of my working, and I try to read one text for testing \n",
    "with open('./raw_corpus/NYT/NYT2025_01_27.txt', 'r', encoding='utf-8', errors='ignore') as f:\n",
    "    text = f.read()\n",
    "print(text[:500])"
   ]
  },
  {
   "cell_type": "code",
   "execution_count": 3,
   "id": "b4e8e9ac-8c2e-4ba5-b131-f15b8544ed8b",
   "metadata": {},
   "outputs": [],
   "source": [
    "#starting work with spacy\n",
    "#we will use spacy, so we import the library and also the English language model.\n",
    "\n",
    "import spacy\n",
    "\n",
    "nlp = spacy.load(\"en_core_web_sm\")"
   ]
  },
  {
   "cell_type": "code",
   "execution_count": 4,
   "id": "b1d5a598-0d84-4f59-8a27-cc0f5b1304b1",
   "metadata": {},
   "outputs": [
    {
     "name": "stdout",
     "output_type": "stream",
     "text": [
      "uk will not be able to resist china's tech dominance\n",
      "china's success in technology has not come out of thin air, even given the unlikely origins of the deepseek deep shock.\n",
      "the obscure hangzhou hedge fund that coded a chatgpt competitor as a side project it claims cost just $5.6m to train emerges from a concerted effort to invest in future generations of technology.\n",
      "this is not an accident. this is policy.\n",
      "the raw materials of artificial intelligence (ai) are microchips, science phds and data. o\n"
     ]
    }
   ],
   "source": [
    "#Read all text files inside the subfolders cnn, bbc, and nyt within the raw_corpus directory.\n",
    "import os\n",
    "\n",
    "folder_path = \"./raw_corpus\"  # Main folder containing subfolders (cnn, bbc, nyt)\n",
    "all_text = \"\"  # Store all file contents\n",
    "\n",
    "# Recursively walk through all subdirectories (cnn, bbc, nyt) and read text files\n",
    "for root, _, files in os.walk(folder_path):\n",
    "    for file_name in files:\n",
    "        if file_name.endswith('.txt'):  # Check for text files\n",
    "            file_path = os.path.join(root, file_name)  # Full path to file\n",
    "\n",
    "            # Read the text file\n",
    "            with open(file_path, \"r\", encoding=\"utf-8\", errors=\"ignore\") as file:\n",
    "                    all_text += file.read() + \"\\n\"\n",
    "       \n",
    "\n",
    "# Convert the entire text to lowercase after reading all files\n",
    "all_text = all_text.lower()\n",
    "\n",
    "print(all_text[:500])  # Print first 500 characters to verify\n"
   ]
  },
  {
   "cell_type": "code",
   "execution_count": 5,
   "id": "0ff5c51d-8dce-4382-a6c6-d27eb7ae173f",
   "metadata": {},
   "outputs": [
    {
     "name": "stdout",
     "output_type": "stream",
     "text": [
      "<class 'spacy.tokens.doc.Doc'>\n"
     ]
    }
   ],
   "source": [
    "# Next, we process text with spacy by calling the nlp()\n",
    "# function, to be able to tokenize it and to filter our tokens of specific kind.\n",
    "\n",
    "doc = nlp(all_text)\n",
    "\n",
    "print(type(doc))"
   ]
  },
  {
   "cell_type": "code",
   "execution_count": 6,
   "id": "b1e60185-9415-4250-9617-a6fbc0112a4a",
   "metadata": {},
   "outputs": [
    {
     "name": "stdout",
     "output_type": "stream",
     "text": [
      "uk\n",
      "will\n",
      "not\n",
      "be\n",
      "able\n",
      "to\n",
      "resist\n",
      "china\n",
      "'s\n",
      "tech\n"
     ]
    }
   ],
   "source": [
    "# The nlp() pipeline tokenizes the text into a Spacy Doc object. This can be\n",
    "# understood as a list of Spacy tokens. \n",
    "# We use .text attribute, because we want to get the string value of the token.\n",
    "\n",
    "for token in doc[0:10]:\n",
    "    print(token.text)"
   ]
  },
  {
   "cell_type": "code",
   "execution_count": 7,
   "id": "a3ca2808-aa44-4418-8a5d-e64c5cda0fe1",
   "metadata": {},
   "outputs": [
    {
     "name": "stdout",
     "output_type": "stream",
     "text": [
      "Some examples of 'nonstop' tokens that on our list: [uk, able, resist, china, tech, dominance, china, success, technology, come, thin, air, given, unlikely, origins]\n"
     ]
    }
   ],
   "source": [
    "#filtering with spaCy\n",
    "#spaCy has marked the information about a token being a stopword or alphabetic as attributes attached to the tokens¶\n",
    "#These attributes are .is_stop and .is_alpha.\n",
    "#If the value of .is_stop is True, the token is a stopword according to Spacy.\n",
    "#If the value of .is_alpha is True, the token is an alphabetic token (consists ONLY of alphabets)\n",
    "# We filter alphabetic non-stopword tokens and other tokens into two lists.\n",
    "\n",
    "list_nonstop = []\n",
    "list_others = []\n",
    "\n",
    "for token in doc:\n",
    "    if token.is_stop == False and token.is_alpha == True:\n",
    "        list_nonstop.append(token)\n",
    "    else:\n",
    "        list_others.append(token)\n",
    "\n",
    "print(f\"Some examples of 'nonstop' tokens that on our list: {list_nonstop[0:15]}\")\n",
    "\n",
    "\n",
    "# Reflection: What information do we miss here? How would the results change, if we selected only non-stopwords, or words that consist of alphabets."
   ]
  },
  {
   "cell_type": "code",
   "execution_count": 8,
   "id": "b82a6b1c-e29d-42ac-b17e-e7ca9f270221",
   "metadata": {},
   "outputs": [
    {
     "name": "stdout",
     "output_type": "stream",
     "text": [
      "Some examples of lemmatized words: ['uk', 'able', 'resist', 'china', 'tech', 'dominance', 'china', 'success', 'technology', 'come', 'thin', 'air', 'give', 'unlikely', 'origin']\n"
     ]
    }
   ],
   "source": [
    "#Lemmatization: Convert words to their base form\n",
    "lemmas = []\n",
    "for token in list_nonstop:\n",
    "    lemmas.append(token.lemma_)\n",
    "\n",
    "# Print some lemmatized words\n",
    "print(f\"Some examples of lemmatized words: {lemmas[:15]}\")"
   ]
  },
  {
   "cell_type": "code",
   "execution_count": 10,
   "id": "ba3e6fe8-481b-4644-a2c6-54e0f60c65b8",
   "metadata": {},
   "outputs": [
    {
     "name": "stdout",
     "output_type": "stream",
     "text": [
      "Requirement already satisfied: wordcloud in /usr/local/anaconda3/lib/python3.12/site-packages (1.9.4)\n",
      "Requirement already satisfied: numpy>=1.6.1 in /usr/local/anaconda3/lib/python3.12/site-packages (from wordcloud) (1.26.4)\n",
      "Requirement already satisfied: pillow in /usr/local/anaconda3/lib/python3.12/site-packages (from wordcloud) (10.3.0)\n",
      "Requirement already satisfied: matplotlib in /usr/local/anaconda3/lib/python3.12/site-packages (from wordcloud) (3.8.4)\n",
      "Requirement already satisfied: contourpy>=1.0.1 in /usr/local/anaconda3/lib/python3.12/site-packages (from matplotlib->wordcloud) (1.2.0)\n",
      "Requirement already satisfied: cycler>=0.10 in /usr/local/anaconda3/lib/python3.12/site-packages (from matplotlib->wordcloud) (0.11.0)\n",
      "Requirement already satisfied: fonttools>=4.22.0 in /usr/local/anaconda3/lib/python3.12/site-packages (from matplotlib->wordcloud) (4.51.0)\n",
      "Requirement already satisfied: kiwisolver>=1.3.1 in /usr/local/anaconda3/lib/python3.12/site-packages (from matplotlib->wordcloud) (1.4.4)\n",
      "Requirement already satisfied: packaging>=20.0 in /usr/local/anaconda3/lib/python3.12/site-packages (from matplotlib->wordcloud) (23.2)\n",
      "Requirement already satisfied: pyparsing>=2.3.1 in /usr/local/anaconda3/lib/python3.12/site-packages (from matplotlib->wordcloud) (3.0.9)\n",
      "Requirement already satisfied: python-dateutil>=2.7 in /usr/local/anaconda3/lib/python3.12/site-packages (from matplotlib->wordcloud) (2.9.0.post0)\n",
      "Requirement already satisfied: six>=1.5 in /usr/local/anaconda3/lib/python3.12/site-packages (from python-dateutil>=2.7->matplotlib->wordcloud) (1.16.0)\n",
      "\n",
      "\u001b[1m[\u001b[0m\u001b[34;49mnotice\u001b[0m\u001b[1;39;49m]\u001b[0m\u001b[39;49m A new release of pip is available: \u001b[0m\u001b[31;49m24.3.1\u001b[0m\u001b[39;49m -> \u001b[0m\u001b[32;49m25.1.1\u001b[0m\n",
      "\u001b[1m[\u001b[0m\u001b[34;49mnotice\u001b[0m\u001b[1;39;49m]\u001b[0m\u001b[39;49m To update, run: \u001b[0m\u001b[32;49mpip install --upgrade pip\u001b[0m\n"
     ]
    },
    {
     "data": {
      "image/png": "[encoded data removed]",
      "text/plain": [
       "<Figure size 640x480 with 1 Axes>"
      ]
     },
     "metadata": {},
     "output_type": "display_data"
    }
   ],
   "source": [
    "# We create a word cloud of our key terms. We could as well create a bar graph\n",
    "# or create a table with frequencies.\n",
    "# The image is saved to our folder, where we can have a more detailed look at it.\n",
    "\n",
    "# For the visualization, we need to install the package wordcloud\n",
    "\n",
    "!pip install wordcloud\n",
    "\n",
    "words = \" \".join(lemmas) # We join our list to a string to visualize it with WordCloud\n",
    "words = words.replace(\"deepseek\", \"\") # We remove the main keyword from our visualization.\n",
    "\n",
    "from wordcloud import WordCloud\n",
    "import matplotlib.pyplot as plt\n",
    "\n",
    "wc = WordCloud(background_color=\"black\",width=500,height=500, max_words=50).generate(words)\n",
    "plt.imshow(wc)\n",
    "plt.axis(\"off\")\n",
    "plt.savefig(\"./wordcloud.png\", dpi = 200) # We save our visualization to the deepseek folder\n",
    "plt.show()"
   ]
  },
  {
   "cell_type": "markdown",
   "id": "e03d669b-b9aa-4045-8d21-ba39a7f9e4cf",
   "metadata": {},
   "source": [
    "I want to move away some meaningless words like\"china\"\"chinese\"\"Deepseek\"\"ai\"\"say\""
   ]
  },
  {
   "cell_type": "code",
   "execution_count": 13,
   "id": "89acd106-bfdf-4567-90b5-d850663a89f8",
   "metadata": {},
   "outputs": [
    {
     "name": "stdout",
     "output_type": "stream",
     "text": [
      "Requirement already satisfied: gensim in /usr/local/anaconda3/lib/python3.12/site-packages (4.3.2)\n",
      "Requirement already satisfied: pandas in /usr/local/anaconda3/lib/python3.12/site-packages (2.2.2)\n",
      "Requirement already satisfied: numpy in /usr/local/anaconda3/lib/python3.12/site-packages (1.26.4)\n",
      "Requirement already satisfied: nltk in /usr/local/anaconda3/lib/python3.12/site-packages (3.9.1)\n",
      "Requirement already satisfied: pyLDAvis in /usr/local/anaconda3/lib/python3.12/site-packages (3.4.1)\n",
      "Requirement already satisfied: scipy>=1.7.0 in /usr/local/anaconda3/lib/python3.12/site-packages (from gensim) (1.15.2)\n",
      "Requirement already satisfied: smart-open>=1.8.1 in /usr/local/anaconda3/lib/python3.12/site-packages (from gensim) (5.2.1)\n",
      "Requirement already satisfied: python-dateutil>=2.8.2 in /usr/local/anaconda3/lib/python3.12/site-packages (from pandas) (2.9.0.post0)\n",
      "Requirement already satisfied: pytz>=2020.1 in /usr/local/anaconda3/lib/python3.12/site-packages (from pandas) (2024.1)\n",
      "Requirement already satisfied: tzdata>=2022.7 in /usr/local/anaconda3/lib/python3.12/site-packages (from pandas) (2023.3)\n",
      "Requirement already satisfied: click in /usr/local/anaconda3/lib/python3.12/site-packages (from nltk) (8.1.7)\n",
      "Requirement already satisfied: joblib in /usr/local/anaconda3/lib/python3.12/site-packages (from nltk) (1.4.2)\n",
      "Requirement already satisfied: regex>=2021.8.3 in /usr/local/anaconda3/lib/python3.12/site-packages (from nltk) (2023.10.3)\n",
      "Requirement already satisfied: tqdm in /usr/local/anaconda3/lib/python3.12/site-packages (from nltk) (4.66.4)\n",
      "Requirement already satisfied: jinja2 in /usr/local/anaconda3/lib/python3.12/site-packages (from pyLDAvis) (3.1.4)\n",
      "Requirement already satisfied: numexpr in /usr/local/anaconda3/lib/python3.12/site-packages (from pyLDAvis) (2.8.7)\n",
      "Requirement already satisfied: funcy in /usr/local/anaconda3/lib/python3.12/site-packages (from pyLDAvis) (2.0)\n",
      "Requirement already satisfied: scikit-learn>=1.0.0 in /usr/local/anaconda3/lib/python3.12/site-packages (from pyLDAvis) (1.6.1)\n",
      "Requirement already satisfied: setuptools in /usr/local/anaconda3/lib/python3.12/site-packages (from pyLDAvis) (75.8.0)\n",
      "Requirement already satisfied: six>=1.5 in /usr/local/anaconda3/lib/python3.12/site-packages (from python-dateutil>=2.8.2->pandas) (1.16.0)\n",
      "Requirement already satisfied: threadpoolctl>=3.1.0 in /usr/local/anaconda3/lib/python3.12/site-packages (from scikit-learn>=1.0.0->pyLDAvis) (3.5.0)\n",
      "Requirement already satisfied: MarkupSafe>=2.0 in /usr/local/anaconda3/lib/python3.12/site-packages (from jinja2->pyLDAvis) (2.1.3)\n",
      "\n",
      "\u001b[1m[\u001b[0m\u001b[34;49mnotice\u001b[0m\u001b[1;39;49m]\u001b[0m\u001b[39;49m A new release of pip is available: \u001b[0m\u001b[31;49m24.3.1\u001b[0m\u001b[39;49m -> \u001b[0m\u001b[32;49m25.1.1\u001b[0m\n",
      "\u001b[1m[\u001b[0m\u001b[34;49mnotice\u001b[0m\u001b[1;39;49m]\u001b[0m\u001b[39;49m To update, run: \u001b[0m\u001b[32;49mpip install --upgrade pip\u001b[0m\n"
     ]
    }
   ],
   "source": [
    "!pip install gensim pandas numpy nltk pyLDAvis   #gensim is a library for topic modelling"
   ]
  },
  {
   "cell_type": "code",
   "execution_count": 14,
   "id": "84c2b428-0512-4b2f-8e05-6d704fdad3fa",
   "metadata": {},
   "outputs": [
    {
     "ename": "NameError",
     "evalue": "name 'nyt_texts' is not defined",
     "output_type": "error",
     "traceback": [
      "\u001b[0;31m---------------------------------------------------------------------------\u001b[0m",
      "\u001b[0;31mNameError\u001b[0m                                 Traceback (most recent call last)",
      "Cell \u001b[0;32mIn[14], line 7\u001b[0m\n\u001b[1;32m      4\u001b[0m \u001b[38;5;66;03m# Save NYT corpus (pre-processed) to the folder\u001b[39;00m\n\u001b[1;32m      5\u001b[0m \u001b[38;5;28;01mwith\u001b[39;00m \u001b[38;5;28mopen\u001b[39m(folder_path \u001b[38;5;241m+\u001b[39m \u001b[38;5;124m\"\u001b[39m\u001b[38;5;124mnyt_corpus.txt\u001b[39m\u001b[38;5;124m\"\u001b[39m, \u001b[38;5;124m\"\u001b[39m\u001b[38;5;124mw\u001b[39m\u001b[38;5;124m\"\u001b[39m, encoding\u001b[38;5;241m=\u001b[39m\u001b[38;5;124m\"\u001b[39m\u001b[38;5;124mutf-8\u001b[39m\u001b[38;5;124m\"\u001b[39m) \u001b[38;5;28;01mas\u001b[39;00m f:\n\u001b[0;32m----> 7\u001b[0m     f\u001b[38;5;241m.\u001b[39mwrite(\u001b[38;5;124m\"\u001b[39m\u001b[38;5;124m\"\u001b[39m\u001b[38;5;241m.\u001b[39mjoin(\u001b[43mnyt_texts\u001b[49m)) \n\u001b[1;32m      9\u001b[0m \u001b[38;5;66;03m# Save BBC corpus (pre-processed) to the specified folder\u001b[39;00m\n\u001b[1;32m     10\u001b[0m \u001b[38;5;28;01mwith\u001b[39;00m \u001b[38;5;28mopen\u001b[39m(folder_path \u001b[38;5;241m+\u001b[39m \u001b[38;5;124m\"\u001b[39m\u001b[38;5;124mbbc_corpus.txt\u001b[39m\u001b[38;5;124m\"\u001b[39m, \u001b[38;5;124m\"\u001b[39m\u001b[38;5;124mw\u001b[39m\u001b[38;5;124m\"\u001b[39m, encoding\u001b[38;5;241m=\u001b[39m\u001b[38;5;124m\"\u001b[39m\u001b[38;5;124mutf-8\u001b[39m\u001b[38;5;124m\"\u001b[39m) \u001b[38;5;28;01mas\u001b[39;00m f:\n",
      "\u001b[0;31mNameError\u001b[0m: name 'nyt_texts' is not defined"
     ]
    }
   ],
   "source": [
    "# Restore pre-processed texts\n",
    "folder_path = \"./preprocessed_corpus\" \n",
    "\n",
    "# Save NYT corpus (pre-processed) to the folder\n",
    "with open(folder_path + \"nyt_corpus.txt\", \"w\", encoding=\"utf-8\") as f:\n",
    "\n",
    "    f.write(\"\".join(nyt_texts)) \n",
    "\n",
    "# Save BBC corpus (pre-processed) to the specified folder\n",
    "with open(folder_path + \"bbc_corpus.txt\", \"w\", encoding=\"utf-8\") as f:\n",
    "    f.write(\"\".join(bbc_texts))\n",
    "\n",
    "# Save CNN corpus (pre-processed) to the specified folder\n",
    "with open(folder_path + \"cnn_corpus.txt\", \"w\", encoding=\"utf-8\") as f:\n",
    "    f.write(\"\".join(cnn_texts))\n"
   ]
  },
  {
   "cell_type": "code",
   "execution_count": null,
   "id": "f3f9a194-31ca-4aa9-b577-51165728c9af",
   "metadata": {},
   "outputs": [],
   "source": [
    "!pip install gensim"
   ]
  },
  {
   "cell_type": "markdown",
   "id": "48f46ddf-4346-419c-aa4b-4bbf5747629d",
   "metadata": {},
   "source": [
    "The nltk (Natural Language Toolkit) module is a powerful Python library used for natural language processing (NLP) tasks. It provides tools for working with human language data, such as text tokenization, lemmatization, stemming, parsing, and more.\n",
    "\n",
    "Key Features of nltk:\n",
    "Tokenization – Splitting text into words or sentences.\n",
    "Stopwords Removal – Removing common words like \"the\", \"is\", \"and\".\n",
    "Stemming & Lemmatization – Reducing words to their base or root form.\n",
    "Part-of-Speech (POS) Tagging – Identifying nouns, verbs, adjectives, etc.\n",
    "Named Entity Recognition (NER) – Identifying names, places, dates, etc.\n",
    "WordNet Interface – Synonyms, antonyms, and word relationships.\n",
    "Text Classification & Sentiment Analysis – Categorizing text into predefined labels.\n"
   ]
  },
  {
   "cell_type": "code",
   "execution_count": null,
   "id": "ef094256-6fc6-4bf4-810f-081ba2adb33c",
   "metadata": {},
   "outputs": [],
   "source": [
    "import nltk  # Import the nltk module\n",
    "\n",
    "nltk.download('wordnet')  \n",
    "\n",
    "from nltk.corpus import stopwords\n",
    "from nltk.stem import WordNetLemmatizer\n",
    "from gensim.utils import simple_preprocess\n",
    "\n",
    "stop_words = set(stopwords.words('english'))\n",
    "lemmatizer = WordNetLemmatizer()\n"
   ]
  },
  {
   "cell_type": "code",
   "execution_count": null,
   "id": "bc9481a4-03cb-461a-a61b-301c4aa6b0df",
   "metadata": {},
   "outputs": [],
   "source": [
    "#This code is part of the text preprocessing pipeline, where for preparing text data for further NLP tasks, such as topic modeling.\n",
    "\n",
    "from nltk.stem import WordNetLemmatizer #This tool will help convert words to their base or dictionary form (e.g., \"running\" becomes \"run\").\n",
    "from gensim.utils import simple_preprocess\n",
    "nltk.download('wordnet')\n",
    "\n",
    "stop_words = set(stopwords.words('english'))#Provides a list of common English stopwords (e.g., \"the,\" \"is,\" \"in\").\n",
    "lemmatizer = WordNetLemmatizer()\n",
    "\n",
    "# Add irrelevant words to stop_words #after run the first time, acording to the results,\n",
    "additional_stopwords = {\"said\", \"u\", \"company\", \"deepseeks\", \"tech\",\"say\",\"china\",\"chinese\"}\n",
    "stop_words = set(stopwords.words('english')).union(additional_stopwords)\n",
    "\n",
    "\n",
    "def preprocess(text):\n",
    "    tokens = word_tokenize(text.lower())  # Tokenizes a sentence into individual words,converts all text to lowercase, ensuring consistency\n",
    "    tokens = [word for word in tokens if word.isalpha()]  # Remove punctuation/numbers\n",
    "    tokens = [word for word in tokens if word not in stop_words]  # Remove stopwords\n",
    "    tokens = [lemmatizer.lemmatize(word) for word in tokens]  # Lemmatization\n",
    "    return tokens\n",
    "\n",
    "df['tokens'] = df['text'].apply(preprocess)\n",
    "print(df['tokens'].head())  # Check tokenized output\n"
   ]
  },
  {
   "cell_type": "code",
   "execution_count": null,
   "id": "84e5ae88-0a6f-45b2-ace2-974bcaec7169",
   "metadata": {},
   "outputs": [],
   "source": [
    "# Add irrelevant words to stop_words\n",
    "additional_stopwords = {\"said\", \"u\", \"company\", \"deepseeks\", \"tech\",\"say\",\"china\",\"chinese\"}\n",
    "stop_words = set(stopwords.words('english')).union(additional_stopwords)\n",
    "\n",
    "def preprocess(text):\n",
    "    tokens = word_tokenize(text.lower())  # Convert to lowercase and tokenize\n",
    "    tokens = [word for word in tokens if word.isalpha()]  # Remove punctuation/numbers\n",
    "    tokens = [word for word in tokens if word not in stop_words]  # Remove stopwords\n",
    "    tokens = [lemmatizer.lemmatize(word) for word in tokens]  # Lemmatization\n",
    "    return tokens\n"
   ]
  },
  {
   "cell_type": "code",
   "execution_count": null,
   "id": "b6965de9-6f19-49da-8c1b-b2bcee1e0288",
   "metadata": {},
   "outputs": [],
   "source": [
    "from gensim.corpora import Dictionary\n",
    "from gensim.models import LdaModel\n",
    "from gensim.models.coherencemodel import CoherenceModel\n",
    "\n",
    "# Create a dictionary and a corpus from the tokenized data\n",
    "dictionary = Dictionary(df['tokens'])\n",
    "corpus = [dictionary.doc2bow(text) for text in df['tokens']]\n",
    "\n",
    "# Print the dictionary and corpus to check if everything looks fine\n",
    "print(dictionary.token2id)  # Check word-to-ID mapping\n",
    "print(corpus[:2])  # Check corpus (list of word counts per document)\n"
   ]
  },
  {
   "cell_type": "code",
   "execution_count": null,
   "id": "1922c780-8acf-4959-8b66-94da84018009",
   "metadata": {},
   "outputs": [],
   "source": [
    "# Train the LDA model\n",
    "lda_model = LdaModel(corpus, num_topics=5, id2word=dictionary, passes=30)\n",
    "\n",
    "# Print the topics\n",
    "topics = lda_model.print_topics(num_words=5)  # Print the top 5 words for each topic\n",
    "for topic in topics:\n",
    "    print(topic)\n"
   ]
  },
  {
   "cell_type": "code",
   "execution_count": null,
   "id": "bc0e5419-ed26-46e3-9b36-24fca818a871",
   "metadata": {},
   "outputs": [],
   "source": [
    "coherence_model = CoherenceModel(model=lda_model, corpus=corpus, coherence='u_mass', dictionary=dictionary)\n",
    "coherence_score = coherence_model.get_coherence()\n",
    "print(f\"Coherence Score (u_mass): {coherence_score}\")\n"
   ]
  },
  {
   "cell_type": "code",
   "execution_count": null,
   "id": "3d7ac69f-6ac6-427d-a6dd-96ecdd116226",
   "metadata": {},
   "outputs": [],
   "source": [
    "# Calculate coherence score\n",
    "coherence_model_lda = CoherenceModel(model=lda_model, texts=df['tokens'], dictionary=dictionary, coherence='c_v')\n",
    "coherence_lda = coherence_model_lda.get_coherence()\n",
    "print(f'Coherence Score: {coherence_lda}')\n"
   ]
  },
  {
   "cell_type": "code",
   "execution_count": null,
   "id": "6896aac3-f99d-46e0-8f8c-ad1ce1b540a7",
   "metadata": {},
   "outputs": [],
   "source": [
    "#I want to remove the word deepseek ,ai,china,since they are meaningless, what do you think? I acuually expect topic like \"tech\"\"politic\"\"economy\"words like \"deepseek,\" \"ai,\" and \"china\" may dominate the topics and make them overly specific to certain aspects of your dataset, especially if they don't align with the broader themes you're aiming for, like tech, politics, and economy.\n",
    "#If you're looking to obtain more general topics like tech, politics, and economy, removing these highly frequent and specific words can definitely help the model focus on more meaningful, diverse, and interpretable topics.\n",
    "#Modify the Preprocessing to Exclude Specific Words:\n",
    "#To ensure words like \"deepseek,\" \"ai,\" and \"china\" are excluded from the topics, you can add them to a custom stopwords list and remove them during the preprocessing stage.\n",
    "custom_stopwords = stop_words.union({\"deepseek\", \"ai\", \"china\", \"chinese\", \"openai\"})\n",
    "\n",
    "def preprocess(text):\n",
    "    tokens = word_tokenize(text.lower())  # Convert to lowercase and tokenize\n",
    "    tokens = [word for word in tokens if word.isalpha()]  # Remove punctuation/numbers\n",
    "    tokens = [word for word in tokens if word not in custom_stopwords]  # Remove custom stopwords\n",
    "    tokens = [lemmatizer.lemmatize(word) for word in tokens]  # Lemmatization\n",
    "    return tokens\n"
   ]
  },
  {
   "cell_type": "markdown",
   "id": "d79a61b6-dcd3-4029-9cdd-22b5afd107fb",
   "metadata": {},
   "source": [
    "Once you've modified the preprocessing function to exclude the custom stopwords, you can reprocess your text and fit the LDA model again. This will remove the impact of those frequent words that might have skewed the topics."
   ]
  },
  {
   "cell_type": "code",
   "execution_count": null,
   "id": "883561f2-5b51-467e-80df-b9cd519f26ff",
   "metadata": {},
   "outputs": [],
   "source": [
    "# Reprocess the text after adding the custom stopwords\n",
    "df['tokens'] = df['text'].apply(preprocess)\n",
    "\n",
    "# Recreate the dictionary and corpus\n",
    "dictionary = Dictionary(df['tokens'])\n",
    "corpus = [dictionary.doc2bow(text) for text in df['tokens']]\n",
    "\n",
    "# Train the LDA model again\n",
    "lda_model = LdaModel(corpus, num_topics=5, id2word=dictionary, passes=30)\n"
   ]
  },
  {
   "cell_type": "code",
   "execution_count": 26,
   "id": "a70b6b3b-dea2-4fc9-9eb2-32ac61ac60cf",
   "metadata": {},
   "outputs": [
    {
     "ename": "NameError",
     "evalue": "name 'lda_model' is not defined",
     "output_type": "error",
     "traceback": [
      "\u001b[0;31m---------------------------------------------------------------------------\u001b[0m",
      "\u001b[0;31mNameError\u001b[0m                                 Traceback (most recent call last)",
      "Cell \u001b[0;32mIn[26], line 1\u001b[0m\n\u001b[0;32m----> 1\u001b[0m \u001b[38;5;28;01mfor\u001b[39;00m topic \u001b[38;5;129;01min\u001b[39;00m \u001b[43mlda_model\u001b[49m\u001b[38;5;241m.\u001b[39mprint_topics(num_words\u001b[38;5;241m=\u001b[39m\u001b[38;5;241m10\u001b[39m):\n\u001b[1;32m      2\u001b[0m     \u001b[38;5;28mprint\u001b[39m(topic)\n",
      "\u001b[0;31mNameError\u001b[0m: name 'lda_model' is not defined"
     ]
    }
   ],
   "source": [
    "for topic in lda_model.print_topics(num_words=10):\n",
    "    print(topic)"
   ]
  },
  {
   "cell_type": "code",
   "execution_count": null,
   "id": "5586b2d7-954d-4262-8b70-d3728b197482",
   "metadata": {},
   "outputs": [],
   "source": [
    "custom_stopwords = stop_words.union({\"deepseek\", \"ai\", \"china\", \"chinese\", \"openai\", \"u\", \"model\", \"said\", \"app\"})\n"
   ]
  },
  {
   "cell_type": "code",
   "execution_count": null,
   "id": "0def6812-cb92-4cfe-9b76-346696d7274a",
   "metadata": {},
   "outputs": [],
   "source": [
    "# Reprocess the text with updated stopwords\n",
    "df['tokens'] = df['text'].apply(preprocess)\n",
    "\n",
    "# Recreate the dictionary and corpus\n",
    "dictionary = Dictionary(df['tokens'])\n",
    "corpus = [dictionary.doc2bow(text) for text in df['tokens']]\n",
    "\n",
    "# Train the LDA model again\n",
    "lda_model = LdaModel(corpus, num_topics=5, id2word=dictionary, passes=15)\n"
   ]
  },
  {
   "cell_type": "code",
   "execution_count": null,
   "id": "b08d01ca-afb3-4eab-9c85-2534b237b9a8",
   "metadata": {},
   "outputs": [],
   "source": [
    "from gensim.models import LdaModel\n",
    "\n",
    "# Create the LDA model with 3 topics\n",
    "lda_model = LdaModel(corpus, num_topics=5, id2word=dictionary, passes=30)\n",
    "\n",
    "# Print the top 10 words for each topic\n",
    "for idx, topic in lda_model.print_topics(num_words=10):\n",
    "    print(f\"Topic {idx}: {topic}\")\n"
   ]
  },
  {
   "cell_type": "code",
   "execution_count": 31,
   "id": "2b74fab9-0e4e-47a3-8cd7-31881fba89aa",
   "metadata": {},
   "outputs": [
    {
     "name": "stdout",
     "output_type": "stream",
     "text": [
      "Requirement already satisfied: pyLDAvis in /usr/local/anaconda3/lib/python3.12/site-packages (3.4.1)\n",
      "Requirement already satisfied: numpy>=1.24.2 in /usr/local/anaconda3/lib/python3.12/site-packages (from pyLDAvis) (1.26.4)\n",
      "Requirement already satisfied: scipy in /usr/local/anaconda3/lib/python3.12/site-packages (from pyLDAvis) (1.15.2)\n",
      "Requirement already satisfied: pandas>=2.0.0 in /usr/local/anaconda3/lib/python3.12/site-packages (from pyLDAvis) (2.2.2)\n",
      "Requirement already satisfied: joblib>=1.2.0 in /usr/local/anaconda3/lib/python3.12/site-packages (from pyLDAvis) (1.4.2)\n",
      "Requirement already satisfied: jinja2 in /usr/local/anaconda3/lib/python3.12/site-packages (from pyLDAvis) (3.1.4)\n",
      "Requirement already satisfied: numexpr in /usr/local/anaconda3/lib/python3.12/site-packages (from pyLDAvis) (2.8.7)\n",
      "Requirement already satisfied: funcy in /usr/local/anaconda3/lib/python3.12/site-packages (from pyLDAvis) (2.0)\n",
      "Requirement already satisfied: scikit-learn>=1.0.0 in /usr/local/anaconda3/lib/python3.12/site-packages (from pyLDAvis) (1.6.1)\n",
      "Requirement already satisfied: gensim in /usr/local/anaconda3/lib/python3.12/site-packages (from pyLDAvis) (4.3.2)\n",
      "Requirement already satisfied: setuptools in /usr/local/anaconda3/lib/python3.12/site-packages (from pyLDAvis) (75.8.0)\n",
      "Requirement already satisfied: python-dateutil>=2.8.2 in /usr/local/anaconda3/lib/python3.12/site-packages (from pandas>=2.0.0->pyLDAvis) (2.9.0.post0)\n",
      "Requirement already satisfied: pytz>=2020.1 in /usr/local/anaconda3/lib/python3.12/site-packages (from pandas>=2.0.0->pyLDAvis) (2024.1)\n",
      "Requirement already satisfied: tzdata>=2022.7 in /usr/local/anaconda3/lib/python3.12/site-packages (from pandas>=2.0.0->pyLDAvis) (2023.3)\n",
      "Requirement already satisfied: threadpoolctl>=3.1.0 in /usr/local/anaconda3/lib/python3.12/site-packages (from scikit-learn>=1.0.0->pyLDAvis) (3.5.0)\n",
      "Requirement already satisfied: smart-open>=1.8.1 in /usr/local/anaconda3/lib/python3.12/site-packages (from gensim->pyLDAvis) (5.2.1)\n",
      "Requirement already satisfied: MarkupSafe>=2.0 in /usr/local/anaconda3/lib/python3.12/site-packages (from jinja2->pyLDAvis) (2.1.3)\n",
      "Requirement already satisfied: six>=1.5 in /usr/local/anaconda3/lib/python3.12/site-packages (from python-dateutil>=2.8.2->pandas>=2.0.0->pyLDAvis) (1.16.0)\n",
      "\n",
      "\u001b[1m[\u001b[0m\u001b[34;49mnotice\u001b[0m\u001b[1;39;49m]\u001b[0m\u001b[39;49m A new release of pip is available: \u001b[0m\u001b[31;49m24.3.1\u001b[0m\u001b[39;49m -> \u001b[0m\u001b[32;49m25.1.1\u001b[0m\n",
      "\u001b[1m[\u001b[0m\u001b[34;49mnotice\u001b[0m\u001b[1;39;49m]\u001b[0m\u001b[39;49m To update, run: \u001b[0m\u001b[32;49mpip install --upgrade pip\u001b[0m\n"
     ]
    }
   ],
   "source": [
    "!pip install pyLDAvis\n"
   ]
  },
  {
   "cell_type": "code",
   "execution_count": 32,
   "id": "469c3b86-469c-4271-a343-4ce7debcf507",
   "metadata": {},
   "outputs": [
    {
     "ename": "ModuleNotFoundError",
     "evalue": "No module named 'pyLDAvis'",
     "output_type": "error",
     "traceback": [
      "\u001b[0;31m---------------------------------------------------------------------------\u001b[0m",
      "\u001b[0;31mModuleNotFoundError\u001b[0m                       Traceback (most recent call last)",
      "Cell \u001b[0;32mIn[32], line 1\u001b[0m\n\u001b[0;32m----> 1\u001b[0m \u001b[38;5;28;01mimport\u001b[39;00m \u001b[38;5;21;01mpyLDAvis\u001b[39;00m\u001b[38;5;21;01m.\u001b[39;00m\u001b[38;5;21;01mgensim_models\u001b[39;00m \u001b[38;5;28;01mas\u001b[39;00m \u001b[38;5;21;01mgensimvis\u001b[39;00m\n\u001b[1;32m      2\u001b[0m \u001b[38;5;28;01mimport\u001b[39;00m \u001b[38;5;21;01mpyLDAvis\u001b[39;00m\n\u001b[1;32m      4\u001b[0m \u001b[38;5;66;03m# Visualize the topics\u001b[39;00m\n",
      "\u001b[0;31mModuleNotFoundError\u001b[0m: No module named 'pyLDAvis'"
     ]
    }
   ],
   "source": [
    "import pyLDAvis.gensim_models as gensimvis\n",
    "import pyLDAvis\n",
    "\n",
    "# Visualize the topics\n",
    "lda_vis = gensimvis.prepare(lda_model, corpus, dictionary)\n",
    "pyLDAvis.display(lda_vis)\n"
   ]
  },
  {
   "cell_type": "code",
   "execution_count": 34,
   "id": "c9ba94e4-5d25-472b-bf2b-dd1333ff5073",
   "metadata": {},
   "outputs": [
    {
     "ename": "ModuleNotFoundError",
     "evalue": "No module named 'pyLDAvis'",
     "output_type": "error",
     "traceback": [
      "\u001b[0;31m---------------------------------------------------------------------------\u001b[0m",
      "\u001b[0;31mModuleNotFoundError\u001b[0m                       Traceback (most recent call last)",
      "Cell \u001b[0;32mIn[34], line 1\u001b[0m\n\u001b[0;32m----> 1\u001b[0m \u001b[38;5;28;01mimport\u001b[39;00m \u001b[38;5;21;01mpyLDAvis\u001b[39;00m\u001b[38;5;21;01m.\u001b[39;00m\u001b[38;5;21;01mgensim_models\u001b[39;00m \u001b[38;5;28;01mas\u001b[39;00m \u001b[38;5;21;01mgensimvis\u001b[39;00m\n\u001b[1;32m      2\u001b[0m \u001b[38;5;28;01mimport\u001b[39;00m \u001b[38;5;21;01mpyLDAvis\u001b[39;00m\n\u001b[1;32m      4\u001b[0m lda_vis \u001b[38;5;241m=\u001b[39m gensimvis\u001b[38;5;241m.\u001b[39mprepare(lda_model, corpus, dictionary)\n",
      "\u001b[0;31mModuleNotFoundError\u001b[0m: No module named 'pyLDAvis'"
     ]
    }
   ],
   "source": [
    "import pyLDAvis.gensim_models as gensimvis\n",
    "import pyLDAvis\n",
    "\n",
    "lda_vis = gensimvis.prepare(lda_model, corpus, dictionary)\n",
    "pyLDAvis.display(lda_vis)\n"
   ]
  },
  {
   "cell_type": "code",
   "execution_count": null,
   "id": "1528b25f-51a1-466e-a297-6ea962785ba2",
   "metadata": {},
   "outputs": [],
   "source": []
  },
  {
   "cell_type": "code",
   "execution_count": null,
   "id": "82d5ade9-deb7-4984-bffe-e7e6bac830e6",
   "metadata": {},
   "outputs": [],
   "source": []
  },
  {
   "cell_type": "code",
   "execution_count": null,
   "id": "5f8c9f5c-d651-4bf3-aef0-ffc8a4fabc5e",
   "metadata": {},
   "outputs": [],
   "source": []
  }
 ],
 "metadata": {
  "kernelspec": {
   "display_name": "Python (numpy_env)",
   "language": "python",
   "name": "numpy_env"
  },
  "language_info": {
   "codemirror_mode": {
    "name": "ipython",
    "version": 3
   },
   "file_extension": ".py",
   "mimetype": "text/x-python",
   "name": "python",
   "nbconvert_exporter": "python",
   "pygments_lexer": "ipython3",
   "version": "3.9.21"
  }
 },
 "nbformat": 4,
 "nbformat_minor": 5
}
